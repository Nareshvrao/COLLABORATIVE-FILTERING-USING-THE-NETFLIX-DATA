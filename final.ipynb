{
 "cells": [
  {
   "cell_type": "markdown",
   "metadata": {},
   "source": [
    "### COLLABORATIVE FILTERING USING THE NETFLIX DATA\n",
    "In this notebook, Alternating Least Squares (ALS) algorithm will be used with Spark APIs to predict the ratings for the movies "
   ]
  },
  {
   "cell_type": "code",
   "execution_count": 38,
   "metadata": {},
   "outputs": [],
   "source": [
    "import numpy as np\n",
    "import pandas as pd\n",
    "import seaborn as sns\n",
    "import matplotlib.pyplot as plt\n",
    "import math\n",
    "from pyspark.ml.tuning import CrossValidator\n",
    "from pyspark.sql import SparkSession\n",
    "from pyspark.sql.types import StructType, StructField, IntegerType, StringType, FloatType\n",
    "\n",
    "%matplotlib inline\n"
   ]
  },
  {
   "cell_type": "markdown",
   "metadata": {},
   "source": [
    "## Problem 2: Data ETL and Data Exploration"
   ]
  },
  {
   "cell_type": "code",
   "execution_count": 39,
   "metadata": {},
   "outputs": [],
   "source": [
    "spark = SparkSession \\\n",
    "    .builder \\\n",
    "    .appName(\"moive analysis\") \\\n",
    "    .config(\"spark.some.config.option\", \"some-value\") \\\n",
    "    .getOrCreate()"
   ]
  },
  {
   "cell_type": "code",
   "execution_count": 40,
   "metadata": {},
   "outputs": [],
   "source": [
    "\n",
    "schema = StructType([\n",
    "    StructField(\"movieId\", IntegerType(), True),\n",
    "    StructField(\"year\", IntegerType(), True),\n",
    "    StructField(\"name\", StringType(), True)])\n",
    "\n",
    "movies_df = spark.read.load(\"movie_titles.txt\", format='csv',header=False,schema=schema)\n",
    "movies_df.createOrReplaceTempView(\"movies_df\")\n"
   ]
  },
  {
   "cell_type": "code",
   "execution_count": 72,
   "metadata": {},
   "outputs": [
    {
     "name": "stdout",
     "output_type": "stream",
     "text": [
      "+-------+----+--------------------+\n",
      "|movieId|year|                name|\n",
      "+-------+----+--------------------+\n",
      "|      1|2003|     Dinosaur Planet|\n",
      "|      2|2004|Isle of Man TT 20...|\n",
      "|      3|1997|           Character|\n",
      "|      4|1994|Paula Abdul's Get...|\n",
      "|      5|2004|The Rise and Fall...|\n",
      "+-------+----+--------------------+\n",
      "only showing top 5 rows\n",
      "\n"
     ]
    }
   ],
   "source": [
    "movies_df.show(5)"
   ]
  },
  {
   "cell_type": "code",
   "execution_count": 41,
   "metadata": {},
   "outputs": [],
   "source": [
    "schema_ratings_df = StructType([\n",
    "    StructField(\"movieId\", IntegerType(), True),\n",
    "    StructField(\"userID\", IntegerType(), True),\n",
    "    StructField(\"ratings\", FloatType(), True)])\n",
    "ratings_df = spark.read.load(\"TrainingRatings.txt\", format='csv',header=False,schema=schema_ratings_df)\n"
   ]
  },
  {
   "cell_type": "code",
   "execution_count": 87,
   "metadata": {},
   "outputs": [],
   "source": [
    "\n",
    "schema_ratings_df = StructType([\n",
    "    StructField(\"movieId\", IntegerType(), True),\n",
    "    StructField(\"userID\", IntegerType(), True),\n",
    "    StructField(\"ratings\", FloatType(), True)])\n",
    "ratings_Testing_df = spark.read.load(\"TestingRatings.txt\", format='csv',header=False,schema=schema_ratings_df)"
   ]
  },
  {
   "cell_type": "code",
   "execution_count": 42,
   "metadata": {},
   "outputs": [
    {
     "name": "stdout",
     "output_type": "stream",
     "text": [
      "For the users that rated movies and the movies that were rated:\n",
      "Minimum number of ratings per user is 68\n",
      "Minimum number of ratings per movie is 3\n"
     ]
    }
   ],
   "source": [
    "tmp1 = ratings_df.groupBy(\"userID\").count().toPandas()['count'].min()\n",
    "tmp2 = ratings_df.groupBy(\"movieId\").count().toPandas()['count'].min()\n",
    "print('For the users that rated movies and the movies that were rated:')\n",
    "print('Minimum number of ratings per user is {}'.format(tmp1))\n",
    "print('Minimum number of ratings per movie is {}'.format(tmp2))"
   ]
  },
  {
   "cell_type": "code",
   "execution_count": 70,
   "metadata": {},
   "outputs": [
    {
     "data": {
      "text/plain": [
       "Text(0.5, 1.0, 'rating counts')"
      ]
     },
     "execution_count": 70,
     "metadata": {},
     "output_type": "execute_result"
    },
    {
     "data": {
      "image/png": "[encoded data removed]",
      "text/plain": [
       "<Figure size 432x288 with 1 Axes>"
      ]
     },
     "metadata": {
      "needs_background": "light"
     },
     "output_type": "display_data"
    }
   ],
   "source": [
    "import seaborn as sns\n",
    "\n",
    "sns.barplot(x=\"ratings\", y=\"count\", color='#3498db', data=ratings_df.groupBy('ratings').count().toPandas()).set_title('rating counts')\n"
   ]
  },
  {
   "cell_type": "markdown",
   "metadata": {},
   "source": [
    "### Problem 3: Collaborative Filtering Implementation\n",
    "\n",
    "With the ALS model, we can use a grid search to find the optimal hyperparameters."
   ]
  },
  {
   "cell_type": "code",
   "execution_count": 89,
   "metadata": {},
   "outputs": [],
   "source": [
    "# import package\n",
    "from pyspark.ml.evaluation import RegressionEvaluator\n",
    "from pyspark.ml.recommendation import ALS\n",
    "from pyspark.ml.tuning import CrossValidator,ParamGridBuilder"
   ]
  },
  {
   "cell_type": "code",
   "execution_count": 91,
   "metadata": {},
   "outputs": [],
   "source": [
    "# Create ALS model\n",
    "# Build the recommendation model using ALS on the training data\n",
    "# Note we set cold start strategy to 'drop' to ensure we don't get NaN evaluation metrics\n",
    "als = ALS(maxIter=5, rank=10, regParam=0.01, userCol=\"userID\", itemCol=\"movieId\", ratingCol=\"ratings\",\n",
    "          coldStartStrategy=\"drop\")\n",
    "\n",
    "#Tune model using ParamGridBuilder\n",
    "# it will take long time in the cv period, so just use few parameter to try \n",
    "\n",
    "paramGrid = (ParamGridBuilder()\n",
    "             .addGrid(als.regParam, [0.01])\n",
    "             .addGrid(als.rank, [10])\n",
    "             .addGrid(als.maxIter, [15])\n",
    "             .build())\n",
    "\n",
    "# Define evaluator as RMSE\n",
    "\n",
    "evaluator = RegressionEvaluator(metricName=\"rmse\", labelCol=\"ratings\",\n",
    "                                predictionCol=\"prediction\")\n",
    "\n",
    "# Build Cross validation \n",
    "# Create 5-fold CrossValidator\n",
    "# it takes too long that I only use 2-fold\n",
    "cv = CrossValidator(estimator=als, estimatorParamMaps=paramGrid, evaluator=evaluator, numFolds=2)\n",
    "\n",
    "# Run cross validations\n",
    "cvModel = cv.fit(ratings_df)\n",
    "# this will likely take a fair amount of time because of the amount of models that we're creating and testing"
   ]
  },
  {
   "cell_type": "code",
   "execution_count": 46,
   "metadata": {},
   "outputs": [],
   "source": [
    "# Extract the best model selected by CV\n",
    "best_model = cvModel.bestModel"
   ]
  },
  {
   "cell_type": "code",
   "execution_count": 47,
   "metadata": {},
   "outputs": [
    {
     "name": "stdout",
     "output_type": "stream",
     "text": [
      "**Best Model**\n",
      "Rank:  ALSModel: uid=ALS_c5fc35861b3d, rank=10\n",
      " MaxIter:  15\n",
      " RegParam: ALS_c5fc35861b3d__regParam\n"
     ]
    }
   ],
   "source": [
    "#Fit ALS model to training data\n",
    "\n",
    "# specify parameter settings by the best model obtained via CV\n",
    "print (\"**Best Model**\")\n",
    "print (\"Rank: \", best_model)\n",
    "print (\" MaxIter: \", str(best_model._java_obj.parent().getMaxIter()))\n",
    "print (\" RegParam:\",  best_model._java_obj.parent().regParam())"
   ]
  },
  {
   "cell_type": "markdown",
   "metadata": {},
   "source": [
    "### Model testing\n"
   ]
  },
  {
   "cell_type": "code",
   "execution_count": 93,
   "metadata": {},
   "outputs": [
    {
     "name": "stdout",
     "output_type": "stream",
     "text": [
      "RMSE = 0.8539641229349001\n"
     ]
    }
   ],
   "source": [
    "#Generate predictions and evaluate using RMSE\n",
    "predictions=best_model.transform(ratings_Testing_df)\n",
    "rmse = evaluator.evaluate(predictions)\n",
    "print (\"RMSE = \"+str(rmse))"
   ]
  },
  {
   "cell_type": "code",
   "execution_count": 94,
   "metadata": {},
   "outputs": [
    {
     "name": "stdout",
     "output_type": "stream",
     "text": [
      "RMSE = 0.8389696976575549\n"
     ]
    }
   ],
   "source": [
    "#Extract best model from the tuning exercise using ParamGridBuilder\n",
    "\n",
    "als_best = ALS(maxIter=15, rank=10, regParam=0.01, userCol=\"userID\", itemCol=\"movieId\", ratingCol=\"ratings\",\n",
    "          coldStartStrategy=\"drop\")\n",
    "model = als_best.fit(ratings_df)\n",
    "alldata=model.transform(ratings_Testing_df)\n",
    "rmse = evaluator.evaluate(alldata)\n",
    "print (\"RMSE = \"+str(rmse))"
   ]
  },
  {
   "cell_type": "markdown",
   "metadata": {},
   "source": [
    "### Result Viewing"
   ]
  },
  {
   "cell_type": "code",
   "execution_count": 52,
   "metadata": {},
   "outputs": [
    {
     "name": "stdout",
     "output_type": "stream",
     "text": [
      "+------+--------------------+\n",
      "|userID|     recommendations|\n",
      "+------+--------------------+\n",
      "| 15846|[{17337, 7.680398...|\n",
      "| 16386|[{14648, 4.066045...|\n",
      "|128389|[{16467, 5.876249...|\n",
      "|151871|[{17337, 5.239189...|\n",
      "|205371|[{12952, 7.854920...|\n",
      "|263031|[{2985, 4.770199}...|\n",
      "|279120|[{218, 5.305906},...|\n",
      "|284489|[{12952, 5.47773}...|\n",
      "|302344|[{17337, 5.726063...|\n",
      "|331295|[{17337, 5.742091...|\n",
      "+------+--------------------+\n",
      "only showing top 10 rows\n",
      "\n"
     ]
    }
   ],
   "source": [
    "user_recs = best_model.recommendForAllUsers(2)\n",
    "user_recs.registerTempTable(\"als_recs_temp\")\n",
    "user_recs.show(10)"
   ]
  },
  {
   "cell_type": "code",
   "execution_count": 53,
   "metadata": {},
   "outputs": [
    {
     "name": "stdout",
     "output_type": "stream",
     "text": [
      "+------+------------------+\n",
      "|userId|          MovieRec|\n",
      "+------+------------------+\n",
      "| 15846|{17337, 7.6803985}|\n",
      "| 15846|{14324, 5.3869762}|\n",
      "| 16386|{14648, 4.0660458}|\n",
      "| 16386|{14361, 3.9452302}|\n",
      "|128389| {16467, 5.876249}|\n",
      "|128389|  {5142, 5.842342}|\n",
      "|151871|{17337, 5.2391896}|\n",
      "|151871| {1779, 5.0404043}|\n",
      "|205371|{12952, 7.8549204}|\n",
      "|205371|  {3706, 6.840836}|\n",
      "+------+------------------+\n",
      "only showing top 10 rows\n",
      "\n"
     ]
    }
   ],
   "source": [
    "# seperate the value of 'recommendations' in user_recs\n",
    "\n",
    "explode_rec = spark.sql('SELECT userId,\\\n",
    "                                explode(recommendations) AS MovieRec\\\n",
    "                                FROM als_recs_temp')\n",
    "\n",
    "explode_rec.createOrReplaceTempView(\"explode_rec\")\n",
    "\n",
    "explode_rec.show(10)"
   ]
  },
  {
   "cell_type": "code",
   "execution_count": 54,
   "metadata": {},
   "outputs": [
    {
     "name": "stdout",
     "output_type": "stream",
     "text": [
      "+------+-------+----------+\n",
      "|userId|movieId|prediction|\n",
      "+------+-------+----------+\n",
      "| 15846|  17337| 7.6803985|\n",
      "| 15846|  14324| 5.3869762|\n",
      "| 16386|  14648| 4.0660458|\n",
      "| 16386|  14361| 3.9452302|\n",
      "|128389|  16467|  5.876249|\n",
      "|128389|   5142|  5.842342|\n",
      "|151871|  17337| 5.2391896|\n",
      "|151871|   1779| 5.0404043|\n",
      "|205371|  12952| 7.8549204|\n",
      "|205371|   3706|  6.840836|\n",
      "+------+-------+----------+\n",
      "only showing top 10 rows\n",
      "\n"
     ]
    }
   ],
   "source": [
    "final_recs = spark.sql(\"SELECT userId,\\\n",
    "                               movieIds_and_ratings.movieId AS movieId,\\\n",
    "                               movieIds_and_ratings.rating AS prediction\\\n",
    "                               FROM als_recs_temp\\\n",
    "                               LATERAL VIEW explode(recommendations) exploded_table AS movieIds_and_ratings\")\n",
    "\n",
    "final_recs.createOrReplaceTempView(\"final_recs\")\n",
    "\n",
    "final_recs.show(10)"
   ]
  },
  {
   "cell_type": "code",
   "execution_count": 84,
   "metadata": {},
   "outputs": [],
   "source": [
    "df1 = final_recs \n",
    "df2 = movies_df\n",
    "df = df1.join(df2,( df1.movieId == df2.movieId) & (df1.userId == 1744889)  ).select(df1.userId,df2.name)"
   ]
  },
  {
   "cell_type": "code",
   "execution_count": 85,
   "metadata": {},
   "outputs": [
    {
     "name": "stdout",
     "output_type": "stream",
     "text": [
      "+-------+--------------------+\n",
      "| userId|                name|\n",
      "+-------+--------------------+\n",
      "|1744889|The Great Ecstasy...|\n",
      "|1744889| Andromeda: Season 5|\n",
      "+-------+--------------------+\n",
      "\n"
     ]
    }
   ],
   "source": [
    "df.show(10)"
   ]
  },
  {
   "cell_type": "raw",
   "metadata": {},
   "source": [
    "Based on the above, we obtain the 2 movies that are recommeded  for UserID 1744889. They are:\n",
    "William Shakespeare's Romeo + Juliet (1996),\n",
    "\"The Great Ecstasy',\n",
    "' Andromeda: Season 5',\n"
   ]
  },
  {
   "cell_type": "code",
   "execution_count": null,
   "metadata": {},
   "outputs": [],
   "source": []
  }
 ],
 "metadata": {
  "kernelspec": {
   "display_name": "Python 3",
   "language": "python",
   "name": "python3"
  },
  "language_info": {
   "codemirror_mode": {
    "name": "ipython",
    "version": 3
   },
   "file_extension": ".py",
   "mimetype": "text/x-python",
   "name": "python",
   "nbconvert_exporter": "python",
   "pygments_lexer": "ipython3",
   "version": "3.8.5"
  },
  "name": "Movie Recommendation Engine in Apache Spark",
  "notebookId": 2964997303881322
 },
 "nbformat": 4,
 "nbformat_minor": 1
}
